{
 "cells": [
  {
   "cell_type": "code",
   "execution_count": 2,
   "id": "fe0c6efc-4ab2-449e-92ed-03c9cf866afa",
   "metadata": {},
   "outputs": [],
   "source": [
    "import numpy as np\n",
    "import pandas as pd\n",
    "\n",
    "from sklearn.compose import ColumnTransformer\n",
    "from category_encoders import OneHotEncoder, OrdinalEncoder\n",
    "from sklearn.linear_model import LinearRegression\n",
    "from sklearn.model_selection import train_test_split\n",
    "from sklearn.pipeline import make_pipeline, Pipeline\n",
    "from sklearn.preprocessing import StandardScaler\n",
    "from sklearn.datasets import make_regression\n",
    "from sklearn.metrics import mean_squared_error\n",
    "\n",
    "from kagglex_cohort4 import *\n",
    "\n",
    "from xgboost import XGBRegressor"
   ]
  },
  {
   "cell_type": "code",
   "execution_count": 3,
   "id": "93251a0d-de87-4044-9b61-699a3f648343",
   "metadata": {},
   "outputs": [],
   "source": [
    "url = \"train.csv\"\n",
    "raw = pd.read_csv(url, engine=\"pyarrow\", dtype_backend=\"pyarrow\")\n",
    "cars = clean_housing(raw)"
   ]
  },
  {
   "cell_type": "code",
   "execution_count": 4,
   "id": "1b75bf70-10f7-48ac-8d26-a6f98e7ba8b0",
   "metadata": {},
   "outputs": [
    {
     "name": "stdout",
     "output_type": "stream",
     "text": [
      "X shape: (54273, 12)\n",
      "y shape: (54273,)\n"
     ]
    }
   ],
   "source": [
    "target = \"price\"\n",
    "features = [col for col in cars.columns if col not in target]\n",
    "\n",
    "X = cars[features]\n",
    "y = cars[target]\n",
    "\n",
    "print(\"X shape:\", X.shape)\n",
    "print(\"y shape:\", y.shape)"
   ]
  },
  {
   "cell_type": "code",
   "execution_count": 5,
   "id": "f8990354-5625-4eae-bd47-c620bd007183",
   "metadata": {},
   "outputs": [
    {
     "name": "stdout",
     "output_type": "stream",
     "text": [
      "X_train shape: (40704, 12)\n",
      "y_train shape: (40704,)\n",
      "X_val shape: (13569, 12)\n",
      "y_val shape: (13569,)\n"
     ]
    }
   ],
   "source": [
    "X_train, X_val, y_train, y_val = train_test_split(X, y, random_state=43)\n",
    "\n",
    "print(\"X_train shape:\", X_train.shape)\n",
    "print(\"y_train shape:\", y_train.shape)\n",
    "print(\"X_val shape:\", X_val.shape)\n",
    "print(\"y_val shape:\", y_val.shape)"
   ]
  },
  {
   "cell_type": "code",
   "execution_count": 6,
   "id": "29c68901-70d7-4ea5-8e15-0eb0f8d76dad",
   "metadata": {},
   "outputs": [
    {
     "name": "stdout",
     "output_type": "stream",
     "text": [
      "<class 'pandas.core.frame.DataFrame'>\n",
      "Index: 40704 entries, 11257 to 14148\n",
      "Data columns (total 12 columns):\n",
      " #   Column        Non-Null Count  Dtype          \n",
      "---  ------        --------------  -----          \n",
      " 0   id            40704 non-null  uint16[pyarrow]\n",
      " 1   brand         40704 non-null  category       \n",
      " 2   model         40704 non-null  category       \n",
      " 3   model_year    40704 non-null  uint16[pyarrow]\n",
      " 4   milage        40704 non-null  uint32[pyarrow]\n",
      " 5   fuel_type     40704 non-null  category       \n",
      " 6   engine        40704 non-null  category       \n",
      " 7   transmission  40704 non-null  category       \n",
      " 8   ext_col       40704 non-null  category       \n",
      " 9   int_col       40704 non-null  category       \n",
      " 10  accident      40704 non-null  category       \n",
      " 11  clean_title   40704 non-null  category       \n",
      "dtypes: category(9), uint16[pyarrow](2), uint32[pyarrow](1)\n",
      "memory usage: 1.3 MB\n"
     ]
    }
   ],
   "source": [
    "X_train.info()"
   ]
  },
  {
   "cell_type": "code",
   "execution_count": 7,
   "id": "816808d8-7972-4646-a91c-6b374dac50df",
   "metadata": {},
   "outputs": [
    {
     "data": {
      "text/plain": [
       "['brand',\n",
       " 'model',\n",
       " 'fuel_type',\n",
       " 'engine',\n",
       " 'transmission',\n",
       " 'ext_col',\n",
       " 'int_col',\n",
       " 'accident',\n",
       " 'clean_title']"
      ]
     },
     "execution_count": 7,
     "metadata": {},
     "output_type": "execute_result"
    }
   ],
   "source": [
    "cat = list(X.select_dtypes(\"category\").columns)\n",
    "cat"
   ]
  },
  {
   "cell_type": "code",
   "execution_count": 8,
   "id": "fab8bf45-38d4-4197-b992-05031f50dc7e",
   "metadata": {},
   "outputs": [
    {
     "data": {
      "text/plain": [
       "['id', 'model_year', 'milage']"
      ]
     },
     "execution_count": 8,
     "metadata": {},
     "output_type": "execute_result"
    }
   ],
   "source": [
    "num = list(X.select_dtypes(\"number\").columns)\n",
    "num"
   ]
  },
  {
   "cell_type": "code",
   "execution_count": 9,
   "id": "f9f6cbf5-c5fd-4646-b824-1c55d47e610f",
   "metadata": {},
   "outputs": [],
   "source": [
    "# Create the column transformer\n",
    "preprocessor = ColumnTransformer(\n",
    "    transformers=[\n",
    "        ('cat', OneHotEncoder(use_cat_names=True), cat),\n",
    "        ('num', StandardScaler(), num)\n",
    "    ]\n",
    ")"
   ]
  },
  {
   "cell_type": "code",
   "execution_count": 10,
   "id": "5dc2096d-38d1-43af-8400-83d8425fcf54",
   "metadata": {},
   "outputs": [],
   "source": [
    "lr = Pipeline([\n",
    "    ('preprocessor', preprocessor),\n",
    "    ('regressor', LinearRegression()),\n",
    "    \n",
    "])"
   ]
  },
  {
   "cell_type": "code",
   "execution_count": 11,
   "id": "630a5ef7-dcad-467b-a5ac-b5a023fadf99",
   "metadata": {},
   "outputs": [
    {
     "data": {
      "text/html": [
       "<style>#sk-container-id-1 {color: black;background-color: white;}#sk-container-id-1 pre{padding: 0;}#sk-container-id-1 div.sk-toggleable {background-color: white;}#sk-container-id-1 label.sk-toggleable__label {cursor: pointer;display: block;width: 100%;margin-bottom: 0;padding: 0.3em;box-sizing: border-box;text-align: center;}#sk-container-id-1 label.sk-toggleable__label-arrow:before {content: \"▸\";float: left;margin-right: 0.25em;color: #696969;}#sk-container-id-1 label.sk-toggleable__label-arrow:hover:before {color: black;}#sk-container-id-1 div.sk-estimator:hover label.sk-toggleable__label-arrow:before {color: black;}#sk-container-id-1 div.sk-toggleable__content {max-height: 0;max-width: 0;overflow: hidden;text-align: left;background-color: #f0f8ff;}#sk-container-id-1 div.sk-toggleable__content pre {margin: 0.2em;color: black;border-radius: 0.25em;background-color: #f0f8ff;}#sk-container-id-1 input.sk-toggleable__control:checked~div.sk-toggleable__content {max-height: 200px;max-width: 100%;overflow: auto;}#sk-container-id-1 input.sk-toggleable__control:checked~label.sk-toggleable__label-arrow:before {content: \"▾\";}#sk-container-id-1 div.sk-estimator input.sk-toggleable__control:checked~label.sk-toggleable__label {background-color: #d4ebff;}#sk-container-id-1 div.sk-label input.sk-toggleable__control:checked~label.sk-toggleable__label {background-color: #d4ebff;}#sk-container-id-1 input.sk-hidden--visually {border: 0;clip: rect(1px 1px 1px 1px);clip: rect(1px, 1px, 1px, 1px);height: 1px;margin: -1px;overflow: hidden;padding: 0;position: absolute;width: 1px;}#sk-container-id-1 div.sk-estimator {font-family: monospace;background-color: #f0f8ff;border: 1px dotted black;border-radius: 0.25em;box-sizing: border-box;margin-bottom: 0.5em;}#sk-container-id-1 div.sk-estimator:hover {background-color: #d4ebff;}#sk-container-id-1 div.sk-parallel-item::after {content: \"\";width: 100%;border-bottom: 1px solid gray;flex-grow: 1;}#sk-container-id-1 div.sk-label:hover label.sk-toggleable__label {background-color: #d4ebff;}#sk-container-id-1 div.sk-serial::before {content: \"\";position: absolute;border-left: 1px solid gray;box-sizing: border-box;top: 0;bottom: 0;left: 50%;z-index: 0;}#sk-container-id-1 div.sk-serial {display: flex;flex-direction: column;align-items: center;background-color: white;padding-right: 0.2em;padding-left: 0.2em;position: relative;}#sk-container-id-1 div.sk-item {position: relative;z-index: 1;}#sk-container-id-1 div.sk-parallel {display: flex;align-items: stretch;justify-content: center;background-color: white;position: relative;}#sk-container-id-1 div.sk-item::before, #sk-container-id-1 div.sk-parallel-item::before {content: \"\";position: absolute;border-left: 1px solid gray;box-sizing: border-box;top: 0;bottom: 0;left: 50%;z-index: -1;}#sk-container-id-1 div.sk-parallel-item {display: flex;flex-direction: column;z-index: 1;position: relative;background-color: white;}#sk-container-id-1 div.sk-parallel-item:first-child::after {align-self: flex-end;width: 50%;}#sk-container-id-1 div.sk-parallel-item:last-child::after {align-self: flex-start;width: 50%;}#sk-container-id-1 div.sk-parallel-item:only-child::after {width: 0;}#sk-container-id-1 div.sk-dashed-wrapped {border: 1px dashed gray;margin: 0 0.4em 0.5em 0.4em;box-sizing: border-box;padding-bottom: 0.4em;background-color: white;}#sk-container-id-1 div.sk-label label {font-family: monospace;font-weight: bold;display: inline-block;line-height: 1.2em;}#sk-container-id-1 div.sk-label-container {text-align: center;}#sk-container-id-1 div.sk-container {/* jupyter's `normalize.less` sets `[hidden] { display: none; }` but bootstrap.min.css set `[hidden] { display: none !important; }` so we also need the `!important` here to be able to override the default hidden behavior on the sphinx rendered scikit-learn.org. See: https://github.com/scikit-learn/scikit-learn/issues/21755 */display: inline-block !important;position: relative;}#sk-container-id-1 div.sk-text-repr-fallback {display: none;}</style><div id=\"sk-container-id-1\" class=\"sk-top-container\"><div class=\"sk-text-repr-fallback\"><pre>Pipeline(steps=[(&#x27;preprocessor&#x27;,\n",
       "                 ColumnTransformer(transformers=[(&#x27;cat&#x27;,\n",
       "                                                  OneHotEncoder(use_cat_names=True),\n",
       "                                                  [&#x27;brand&#x27;, &#x27;model&#x27;,\n",
       "                                                   &#x27;fuel_type&#x27;, &#x27;engine&#x27;,\n",
       "                                                   &#x27;transmission&#x27;, &#x27;ext_col&#x27;,\n",
       "                                                   &#x27;int_col&#x27;, &#x27;accident&#x27;,\n",
       "                                                   &#x27;clean_title&#x27;]),\n",
       "                                                 (&#x27;num&#x27;, StandardScaler(),\n",
       "                                                  [&#x27;id&#x27;, &#x27;model_year&#x27;,\n",
       "                                                   &#x27;milage&#x27;])])),\n",
       "                (&#x27;regressor&#x27;, LinearRegression())])</pre><b>In a Jupyter environment, please rerun this cell to show the HTML representation or trust the notebook. <br />On GitHub, the HTML representation is unable to render, please try loading this page with nbviewer.org.</b></div><div class=\"sk-container\" hidden><div class=\"sk-item sk-dashed-wrapped\"><div class=\"sk-label-container\"><div class=\"sk-label sk-toggleable\"><input class=\"sk-toggleable__control sk-hidden--visually\" id=\"sk-estimator-id-1\" type=\"checkbox\" ><label for=\"sk-estimator-id-1\" class=\"sk-toggleable__label sk-toggleable__label-arrow\">Pipeline</label><div class=\"sk-toggleable__content\"><pre>Pipeline(steps=[(&#x27;preprocessor&#x27;,\n",
       "                 ColumnTransformer(transformers=[(&#x27;cat&#x27;,\n",
       "                                                  OneHotEncoder(use_cat_names=True),\n",
       "                                                  [&#x27;brand&#x27;, &#x27;model&#x27;,\n",
       "                                                   &#x27;fuel_type&#x27;, &#x27;engine&#x27;,\n",
       "                                                   &#x27;transmission&#x27;, &#x27;ext_col&#x27;,\n",
       "                                                   &#x27;int_col&#x27;, &#x27;accident&#x27;,\n",
       "                                                   &#x27;clean_title&#x27;]),\n",
       "                                                 (&#x27;num&#x27;, StandardScaler(),\n",
       "                                                  [&#x27;id&#x27;, &#x27;model_year&#x27;,\n",
       "                                                   &#x27;milage&#x27;])])),\n",
       "                (&#x27;regressor&#x27;, LinearRegression())])</pre></div></div></div><div class=\"sk-serial\"><div class=\"sk-item sk-dashed-wrapped\"><div class=\"sk-label-container\"><div class=\"sk-label sk-toggleable\"><input class=\"sk-toggleable__control sk-hidden--visually\" id=\"sk-estimator-id-2\" type=\"checkbox\" ><label for=\"sk-estimator-id-2\" class=\"sk-toggleable__label sk-toggleable__label-arrow\">preprocessor: ColumnTransformer</label><div class=\"sk-toggleable__content\"><pre>ColumnTransformer(transformers=[(&#x27;cat&#x27;, OneHotEncoder(use_cat_names=True),\n",
       "                                 [&#x27;brand&#x27;, &#x27;model&#x27;, &#x27;fuel_type&#x27;, &#x27;engine&#x27;,\n",
       "                                  &#x27;transmission&#x27;, &#x27;ext_col&#x27;, &#x27;int_col&#x27;,\n",
       "                                  &#x27;accident&#x27;, &#x27;clean_title&#x27;]),\n",
       "                                (&#x27;num&#x27;, StandardScaler(),\n",
       "                                 [&#x27;id&#x27;, &#x27;model_year&#x27;, &#x27;milage&#x27;])])</pre></div></div></div><div class=\"sk-parallel\"><div class=\"sk-parallel-item\"><div class=\"sk-item\"><div class=\"sk-label-container\"><div class=\"sk-label sk-toggleable\"><input class=\"sk-toggleable__control sk-hidden--visually\" id=\"sk-estimator-id-3\" type=\"checkbox\" ><label for=\"sk-estimator-id-3\" class=\"sk-toggleable__label sk-toggleable__label-arrow\">cat</label><div class=\"sk-toggleable__content\"><pre>[&#x27;brand&#x27;, &#x27;model&#x27;, &#x27;fuel_type&#x27;, &#x27;engine&#x27;, &#x27;transmission&#x27;, &#x27;ext_col&#x27;, &#x27;int_col&#x27;, &#x27;accident&#x27;, &#x27;clean_title&#x27;]</pre></div></div></div><div class=\"sk-serial\"><div class=\"sk-item\"><div class=\"sk-estimator sk-toggleable\"><input class=\"sk-toggleable__control sk-hidden--visually\" id=\"sk-estimator-id-4\" type=\"checkbox\" ><label for=\"sk-estimator-id-4\" class=\"sk-toggleable__label sk-toggleable__label-arrow\">OneHotEncoder</label><div class=\"sk-toggleable__content\"><pre>OneHotEncoder(use_cat_names=True)</pre></div></div></div></div></div></div><div class=\"sk-parallel-item\"><div class=\"sk-item\"><div class=\"sk-label-container\"><div class=\"sk-label sk-toggleable\"><input class=\"sk-toggleable__control sk-hidden--visually\" id=\"sk-estimator-id-5\" type=\"checkbox\" ><label for=\"sk-estimator-id-5\" class=\"sk-toggleable__label sk-toggleable__label-arrow\">num</label><div class=\"sk-toggleable__content\"><pre>[&#x27;id&#x27;, &#x27;model_year&#x27;, &#x27;milage&#x27;]</pre></div></div></div><div class=\"sk-serial\"><div class=\"sk-item\"><div class=\"sk-estimator sk-toggleable\"><input class=\"sk-toggleable__control sk-hidden--visually\" id=\"sk-estimator-id-6\" type=\"checkbox\" ><label for=\"sk-estimator-id-6\" class=\"sk-toggleable__label sk-toggleable__label-arrow\">StandardScaler</label><div class=\"sk-toggleable__content\"><pre>StandardScaler()</pre></div></div></div></div></div></div></div></div><div class=\"sk-item\"><div class=\"sk-estimator sk-toggleable\"><input class=\"sk-toggleable__control sk-hidden--visually\" id=\"sk-estimator-id-7\" type=\"checkbox\" ><label for=\"sk-estimator-id-7\" class=\"sk-toggleable__label sk-toggleable__label-arrow\">LinearRegression</label><div class=\"sk-toggleable__content\"><pre>LinearRegression()</pre></div></div></div></div></div></div></div>"
      ],
      "text/plain": [
       "Pipeline(steps=[('preprocessor',\n",
       "                 ColumnTransformer(transformers=[('cat',\n",
       "                                                  OneHotEncoder(use_cat_names=True),\n",
       "                                                  ['brand', 'model',\n",
       "                                                   'fuel_type', 'engine',\n",
       "                                                   'transmission', 'ext_col',\n",
       "                                                   'int_col', 'accident',\n",
       "                                                   'clean_title']),\n",
       "                                                 ('num', StandardScaler(),\n",
       "                                                  ['id', 'model_year',\n",
       "                                                   'milage'])])),\n",
       "                ('regressor', LinearRegression())])"
      ]
     },
     "execution_count": 11,
     "metadata": {},
     "output_type": "execute_result"
    }
   ],
   "source": [
    "lr.fit(X_train, y_train)\n",
    "# lr.score(X_test, y_test)"
   ]
  },
  {
   "cell_type": "code",
   "execution_count": 12,
   "id": "69cf1274-1b99-46e8-b427-5672efb87071",
   "metadata": {},
   "outputs": [
    {
     "name": "stdout",
     "output_type": "stream",
     "text": [
      "Coefficients: [-6.88607247e+13 -6.88607247e+13 -6.88607247e+13 ... -2.83093750e+02\n",
      "  5.03433203e+03 -7.31867188e+03]\n"
     ]
    }
   ],
   "source": [
    "# Access the linear regression model within the pipeline\n",
    "linear_model = lr.named_steps['regressor']\n",
    "print(\"Coefficients:\", linear_model.coef_)"
   ]
  },
  {
   "cell_type": "code",
   "execution_count": 13,
   "id": "ce8e76da-5538-4012-88e4-ccd7be8b3e6f",
   "metadata": {},
   "outputs": [],
   "source": [
    "# Get the feature names after transformation\n",
    "ohe = lr.named_steps['preprocessor'].named_transformers_['cat']\n",
    "ohe_feature_names = ohe.get_feature_names_out(cat)\n",
    "num_feature_names = num\n",
    "feature_names = list(ohe_feature_names) + num_feature_names"
   ]
  },
  {
   "cell_type": "code",
   "execution_count": 14,
   "id": "5d549263-f17e-4c0b-86cb-8a62a0ab1c4b",
   "metadata": {},
   "outputs": [
    {
     "data": {
      "text/plain": [
       "brand_Ford                                        -6.886072e+13\n",
       "brand_BMW                                         -6.886072e+13\n",
       "brand_Volvo                                       -6.886072e+13\n",
       "brand_Nissan                                      -6.886072e+13\n",
       "brand_Cadillac                                    -6.886072e+13\n",
       "                                                       ...     \n",
       "accident_At least 1 accident or damage reported    1.767492e+15\n",
       "clean_title_Yes                                    0.000000e+00\n",
       "id                                                -2.830938e+02\n",
       "model_year                                         5.034332e+03\n",
       "milage                                            -7.318672e+03\n",
       "Length: 3323, dtype: float64"
      ]
     },
     "execution_count": 14,
     "metadata": {},
     "output_type": "execute_result"
    }
   ],
   "source": [
    "pd.Series(linear_model.coef_, index=feature_names)"
   ]
  },
  {
   "cell_type": "code",
   "execution_count": 15,
   "id": "a7ab5056-7e69-4a7b-a230-b2396780c53b",
   "metadata": {},
   "outputs": [],
   "source": [
    "# Predict on the test set\n",
    "y_pred = lr.predict(X_val)"
   ]
  },
  {
   "cell_type": "code",
   "execution_count": 16,
   "id": "5f8d0555-0e41-4b2f-84a8-dd31c19f39f9",
   "metadata": {},
   "outputs": [
    {
     "name": "stdout",
     "output_type": "stream",
     "text": [
      "Root Mean Squared Error (RMSE): 90447676932314.36\n"
     ]
    }
   ],
   "source": [
    "# Calculate RMSE\n",
    "rmse = mean_squared_error(y_val, y_pred, squared=False)\n",
    "print(\"Root Mean Squared Error (RMSE):\", rmse)"
   ]
  },
  {
   "cell_type": "code",
   "execution_count": 17,
   "id": "6dac4d14-20fd-4259-b2ee-63aafb438a5b",
   "metadata": {},
   "outputs": [],
   "source": [
    "# Define the pipeline with XGBRegressor\n",
    "xgb_pipe = Pipeline([\n",
    "    ('preprocessor', preprocessor),\n",
    "    ('regressor', XGBRegressor(objective='reg:squarederror', random_state=43))\n",
    "])\n"
   ]
  },
  {
   "cell_type": "code",
   "execution_count": 18,
   "id": "897383d2-b33c-4238-9f0e-1cfd0ed600d4",
   "metadata": {},
   "outputs": [],
   "source": [
    "# Fit the pipeline to the training data\n",
    "xgb_pipe.fit(X_train, y_train)\n",
    "\n",
    "# Predict on the test set\n",
    "y_pred = xgb_pipe.predict(X_val)"
   ]
  },
  {
   "cell_type": "code",
   "execution_count": 19,
   "id": "14d39c65-314b-4bd9-b07c-fad45bbc04c2",
   "metadata": {},
   "outputs": [
    {
     "name": "stdout",
     "output_type": "stream",
     "text": [
      "Root Mean Squared Error (RMSE): 67956.16780896361\n"
     ]
    }
   ],
   "source": [
    "# Calculate RMSE\n",
    "rmse = mean_squared_error(y_val, y_pred, squared=False)\n",
    "print(\"Root Mean Squared Error (RMSE):\", rmse)"
   ]
  },
  {
   "cell_type": "code",
   "execution_count": 20,
   "id": "4cadda19-c457-40f7-af87-2c98947396ec",
   "metadata": {},
   "outputs": [
    {
     "name": "stdout",
     "output_type": "stream",
     "text": [
      "Feature Importances: [2.2999393e-03 1.3525285e-04 5.5686585e-05 ... 4.1475371e-03 7.8849252e-03\n",
      " 7.7175982e-03]\n"
     ]
    }
   ],
   "source": [
    "# Access the XGBoost model within the pipeline\n",
    "xgb_model = xgb_pipe.named_steps['regressor']\n",
    "print(\"Feature Importances:\", xgb_model.feature_importances_)"
   ]
  },
  {
   "cell_type": "code",
   "execution_count": 21,
   "id": "a0c30665-6e40-47e8-87fe-eabee4ddc063",
   "metadata": {},
   "outputs": [],
   "source": [
    "# Get the feature names after transformation\n",
    "ohe = xgb_pipe.named_steps['preprocessor'].named_transformers_['cat']\n",
    "ohe_feature_names = ohe.get_feature_names_out(cat)\n",
    "num_feature_names = num\n",
    "feature_names = list(ohe_feature_names) + num_feature_names\n",
    "\n",
    "# print(\"Feature Names:\", feature_names)"
   ]
  },
  {
   "cell_type": "code",
   "execution_count": 23,
   "id": "e2a88a39-5613-49c2-b48e-241567fe3d7e",
   "metadata": {},
   "outputs": [
    {
     "name": "stdout",
     "output_type": "stream",
     "text": [
      "Range of y_test: (2000, 2954083)\n",
      "Range of y_pred: (-106238.08, 2383545.5)\n"
     ]
    }
   ],
   "source": [
    " # Check the ranges of y_test and y_pred\n",
    "print(\"Range of y_test:\", (np.min(y_val), np.max(y_val)))\n",
    "print(\"Range of y_pred:\", (np.min(y_pred), np.max(y_pred)))"
   ]
  },
  {
   "cell_type": "code",
   "execution_count": 24,
   "id": "c848606b-859b-4054-aff1-212a6ae78305",
   "metadata": {},
   "outputs": [
    {
     "name": "stdout",
     "output_type": "stream",
     "text": [
      "<class 'pandas.core.frame.DataFrame'>\n",
      "RangeIndex: 36183 entries, 0 to 36182\n",
      "Data columns (total 12 columns):\n",
      " #   Column        Non-Null Count  Dtype \n",
      "---  ------        --------------  ----- \n",
      " 0   id            36183 non-null  int64 \n",
      " 1   brand         36183 non-null  object\n",
      " 2   model         36183 non-null  object\n",
      " 3   model_year    36183 non-null  int64 \n",
      " 4   milage        36183 non-null  int64 \n",
      " 5   fuel_type     36183 non-null  object\n",
      " 6   engine        36183 non-null  object\n",
      " 7   transmission  36183 non-null  object\n",
      " 8   ext_col       36183 non-null  object\n",
      " 9   int_col       36183 non-null  object\n",
      " 10  accident      36183 non-null  object\n",
      " 11  clean_title   36183 non-null  object\n",
      "dtypes: int64(3), object(9)\n",
      "memory usage: 3.3+ MB\n",
      "None\n"
     ]
    },
    {
     "data": {
      "text/html": [
       "<div>\n",
       "<style scoped>\n",
       "    .dataframe tbody tr th:only-of-type {\n",
       "        vertical-align: middle;\n",
       "    }\n",
       "\n",
       "    .dataframe tbody tr th {\n",
       "        vertical-align: top;\n",
       "    }\n",
       "\n",
       "    .dataframe thead th {\n",
       "        text-align: right;\n",
       "    }\n",
       "</style>\n",
       "<table border=\"1\" class=\"dataframe\">\n",
       "  <thead>\n",
       "    <tr style=\"text-align: right;\">\n",
       "      <th></th>\n",
       "      <th>id</th>\n",
       "      <th>brand</th>\n",
       "      <th>model</th>\n",
       "      <th>model_year</th>\n",
       "      <th>milage</th>\n",
       "      <th>fuel_type</th>\n",
       "      <th>engine</th>\n",
       "      <th>transmission</th>\n",
       "      <th>ext_col</th>\n",
       "      <th>int_col</th>\n",
       "      <th>accident</th>\n",
       "      <th>clean_title</th>\n",
       "    </tr>\n",
       "  </thead>\n",
       "  <tbody>\n",
       "    <tr>\n",
       "      <th>0</th>\n",
       "      <td>54273</td>\n",
       "      <td>Mercedes-Benz</td>\n",
       "      <td>E-Class E 350</td>\n",
       "      <td>2014</td>\n",
       "      <td>73000</td>\n",
       "      <td>Gasoline</td>\n",
       "      <td>302.0HP 3.5L V6 Cylinder Engine Gasoline Fuel</td>\n",
       "      <td>A/T</td>\n",
       "      <td>White</td>\n",
       "      <td>Beige</td>\n",
       "      <td>None reported</td>\n",
       "      <td>Yes</td>\n",
       "    </tr>\n",
       "    <tr>\n",
       "      <th>1</th>\n",
       "      <td>54274</td>\n",
       "      <td>Lexus</td>\n",
       "      <td>RX 350 Base</td>\n",
       "      <td>2015</td>\n",
       "      <td>128032</td>\n",
       "      <td>Gasoline</td>\n",
       "      <td>275.0HP 3.5L V6 Cylinder Engine Gasoline Fuel</td>\n",
       "      <td>8-Speed A/T</td>\n",
       "      <td>Silver</td>\n",
       "      <td>Black</td>\n",
       "      <td>None reported</td>\n",
       "      <td>Yes</td>\n",
       "    </tr>\n",
       "    <tr>\n",
       "      <th>2</th>\n",
       "      <td>54275</td>\n",
       "      <td>Mercedes-Benz</td>\n",
       "      <td>C-Class C 300</td>\n",
       "      <td>2015</td>\n",
       "      <td>51983</td>\n",
       "      <td>Gasoline</td>\n",
       "      <td>241.0HP 2.0L 4 Cylinder Engine Gasoline Fuel</td>\n",
       "      <td>7-Speed A/T</td>\n",
       "      <td>Blue</td>\n",
       "      <td>White</td>\n",
       "      <td>None reported</td>\n",
       "      <td>Yes</td>\n",
       "    </tr>\n",
       "    <tr>\n",
       "      <th>3</th>\n",
       "      <td>54276</td>\n",
       "      <td>Land</td>\n",
       "      <td>Rover Range Rover 5.0L Supercharged Autobiogra...</td>\n",
       "      <td>2018</td>\n",
       "      <td>29500</td>\n",
       "      <td>Gasoline</td>\n",
       "      <td>518.0HP 5.0L 8 Cylinder Engine Gasoline Fuel</td>\n",
       "      <td>Transmission w/Dual Shift Mode</td>\n",
       "      <td>White</td>\n",
       "      <td>White</td>\n",
       "      <td>At least 1 accident or damage reported</td>\n",
       "      <td>Yes</td>\n",
       "    </tr>\n",
       "    <tr>\n",
       "      <th>4</th>\n",
       "      <td>54277</td>\n",
       "      <td>BMW</td>\n",
       "      <td>X6 xDrive40i</td>\n",
       "      <td>2020</td>\n",
       "      <td>90000</td>\n",
       "      <td>Gasoline</td>\n",
       "      <td>335.0HP 3.0L Straight 6 Cylinder Engine Gasoli...</td>\n",
       "      <td>8-Speed A/T</td>\n",
       "      <td>White</td>\n",
       "      <td>Black</td>\n",
       "      <td>At least 1 accident or damage reported</td>\n",
       "      <td>Yes</td>\n",
       "    </tr>\n",
       "  </tbody>\n",
       "</table>\n",
       "</div>"
      ],
      "text/plain": [
       "      id          brand                                              model  \\\n",
       "0  54273  Mercedes-Benz                                      E-Class E 350   \n",
       "1  54274          Lexus                                        RX 350 Base   \n",
       "2  54275  Mercedes-Benz                                      C-Class C 300   \n",
       "3  54276           Land  Rover Range Rover 5.0L Supercharged Autobiogra...   \n",
       "4  54277            BMW                                       X6 xDrive40i   \n",
       "\n",
       "   model_year  milage fuel_type  \\\n",
       "0        2014   73000  Gasoline   \n",
       "1        2015  128032  Gasoline   \n",
       "2        2015   51983  Gasoline   \n",
       "3        2018   29500  Gasoline   \n",
       "4        2020   90000  Gasoline   \n",
       "\n",
       "                                              engine  \\\n",
       "0      302.0HP 3.5L V6 Cylinder Engine Gasoline Fuel   \n",
       "1      275.0HP 3.5L V6 Cylinder Engine Gasoline Fuel   \n",
       "2       241.0HP 2.0L 4 Cylinder Engine Gasoline Fuel   \n",
       "3       518.0HP 5.0L 8 Cylinder Engine Gasoline Fuel   \n",
       "4  335.0HP 3.0L Straight 6 Cylinder Engine Gasoli...   \n",
       "\n",
       "                     transmission ext_col int_col  \\\n",
       "0                             A/T   White   Beige   \n",
       "1                     8-Speed A/T  Silver   Black   \n",
       "2                     7-Speed A/T    Blue   White   \n",
       "3  Transmission w/Dual Shift Mode   White   White   \n",
       "4                     8-Speed A/T   White   Black   \n",
       "\n",
       "                                 accident clean_title  \n",
       "0                           None reported         Yes  \n",
       "1                           None reported         Yes  \n",
       "2                           None reported         Yes  \n",
       "3  At least 1 accident or damage reported         Yes  \n",
       "4  At least 1 accident or damage reported         Yes  "
      ]
     },
     "execution_count": 24,
     "metadata": {},
     "output_type": "execute_result"
    }
   ],
   "source": [
    "X_test = pd.read_csv(\"test.csv\")  # REMOVERHS\n",
    "print(X_test.info())\n",
    "X_test.head()"
   ]
  },
  {
   "cell_type": "code",
   "execution_count": 25,
   "id": "2a0e9ae2-81c7-4c49-84b5-3b0ee12e1b87",
   "metadata": {},
   "outputs": [
    {
     "data": {
      "text/plain": [
       "0    23215.972656\n",
       "1    21023.255859\n",
       "2    34825.054688\n",
       "3    50828.570312\n",
       "4    42716.855469\n",
       "dtype: float32"
      ]
     },
     "execution_count": 25,
     "metadata": {},
     "output_type": "execute_result"
    }
   ],
   "source": [
    "y_test_pred = pd.Series(xgb_pipe.predict(X_test))  # REMOVERHS\n",
    "y_test_pred.head()"
   ]
  },
  {
   "cell_type": "code",
   "execution_count": 26,
   "id": "381012ce-4420-4bc9-aa41-b822c551b2a9",
   "metadata": {},
   "outputs": [
    {
     "data": {
      "text/plain": [
       "model_SL-Class SL500 Roadster                       0.060066\n",
       "model_Wrangler Sport                                0.055899\n",
       "model_RDX PMC Edition                               0.027333\n",
       "model_Suburban 1500 LTZ                             0.027291\n",
       "model_Silverado 1500 LTZ                            0.024634\n",
       "                                                      ...   \n",
       "model_S60 Recharge Plug-In Hybrid T8 Inscription    0.000000\n",
       "model_Highlander Hybrid XLE                         0.000000\n",
       "model_911 GT2 RS                                    0.000000\n",
       "model_Camry SE                                      0.000000\n",
       "model_Mustang SVT Cobra                             0.000000\n",
       "Length: 3323, dtype: float32"
      ]
     },
     "execution_count": 26,
     "metadata": {},
     "output_type": "execute_result"
    }
   ],
   "source": [
    "feat_imp = (pd\n",
    "            .Series(xgb_model.feature_importances_, index=feature_names)\n",
    "            .sort_values(key=abs, ascending=False)\n",
    "           ) \n",
    "feat_imp"
   ]
  },
  {
   "cell_type": "code",
   "execution_count": 27,
   "id": "8d45af6e-b3bd-4cac-8fc5-bb6f8cbe7b9c",
   "metadata": {},
   "outputs": [],
   "source": [
    "# Prepare the submission file\n",
    "submission_example = pd.read_csv('sample_submission.csv')\n",
    "submission = pd.DataFrame({'id': submission_example['id'], 'target': y_test_pred})\n",
    "submission.to_csv('submission.csv', index=False)"
   ]
  },
  {
   "cell_type": "code",
   "execution_count": null,
   "id": "fb8e86e0-146c-41ab-ae81-b8392e1dd8fd",
   "metadata": {},
   "outputs": [],
   "source": []
  }
 ],
 "metadata": {
  "kernelspec": {
   "display_name": "Python 3 (ipykernel)",
   "language": "python",
   "name": "python3"
  },
  "language_info": {
   "codemirror_mode": {
    "name": "ipython",
    "version": 3
   },
   "file_extension": ".py",
   "mimetype": "text/x-python",
   "name": "python",
   "nbconvert_exporter": "python",
   "pygments_lexer": "ipython3",
   "version": "3.10.12"
  }
 },
 "nbformat": 4,
 "nbformat_minor": 5
}
