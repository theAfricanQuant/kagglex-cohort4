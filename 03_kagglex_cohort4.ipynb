{
 "cells": [
  {
   "cell_type": "code",
   "execution_count": 1,
   "id": "fe0c6efc-4ab2-449e-92ed-03c9cf866afa",
   "metadata": {},
   "outputs": [],
   "source": [
    "import numpy as np\n",
    "import pandas as pd\n",
    "\n",
    "from kagglex_cohort4 import *"
   ]
  },
  {
   "cell_type": "code",
   "execution_count": 3,
   "id": "93251a0d-de87-4044-9b61-699a3f648343",
   "metadata": {},
   "outputs": [],
   "source": [
    "url = \"train.csv\"\n",
    "raw = pd.read_csv(url, engine=\"pyarrow\", dtype_backend=\"pyarrow\")\n",
    "cars = clean_housing(raw)"
   ]
  },
  {
   "cell_type": "code",
   "execution_count": 7,
   "id": "1b75bf70-10f7-48ac-8d26-a6f98e7ba8b0",
   "metadata": {},
   "outputs": [],
   "source": [
    "target = \"price\"\n",
    "features = [col for col in cars.columns if col not in target]\n",
    "\n",
    "X = cars[features].select_dtypes(\"number\")\n",
    "y = cars[target]"
   ]
  },
  {
   "cell_type": "code",
   "execution_count": 9,
   "id": "9fc00908-4fb0-4f1a-9ee5-cb512850ef2f",
   "metadata": {},
   "outputs": [
    {
     "data": {
      "text/html": [
       "<div>\n",
       "<style scoped>\n",
       "    .dataframe tbody tr th:only-of-type {\n",
       "        vertical-align: middle;\n",
       "    }\n",
       "\n",
       "    .dataframe tbody tr th {\n",
       "        vertical-align: top;\n",
       "    }\n",
       "\n",
       "    .dataframe thead th {\n",
       "        text-align: right;\n",
       "    }\n",
       "</style>\n",
       "<table border=\"1\" class=\"dataframe\">\n",
       "  <thead>\n",
       "    <tr style=\"text-align: right;\">\n",
       "      <th></th>\n",
       "      <th>id</th>\n",
       "      <th>model_year</th>\n",
       "      <th>milage</th>\n",
       "    </tr>\n",
       "  </thead>\n",
       "  <tbody>\n",
       "    <tr>\n",
       "      <th>0</th>\n",
       "      <td>0</td>\n",
       "      <td>2018</td>\n",
       "      <td>74349</td>\n",
       "    </tr>\n",
       "    <tr>\n",
       "      <th>1</th>\n",
       "      <td>1</td>\n",
       "      <td>2007</td>\n",
       "      <td>80000</td>\n",
       "    </tr>\n",
       "    <tr>\n",
       "      <th>2</th>\n",
       "      <td>2</td>\n",
       "      <td>2009</td>\n",
       "      <td>91491</td>\n",
       "    </tr>\n",
       "    <tr>\n",
       "      <th>3</th>\n",
       "      <td>3</td>\n",
       "      <td>2022</td>\n",
       "      <td>2437</td>\n",
       "    </tr>\n",
       "    <tr>\n",
       "      <th>4</th>\n",
       "      <td>4</td>\n",
       "      <td>2001</td>\n",
       "      <td>111000</td>\n",
       "    </tr>\n",
       "    <tr>\n",
       "      <th>...</th>\n",
       "      <td>...</td>\n",
       "      <td>...</td>\n",
       "      <td>...</td>\n",
       "    </tr>\n",
       "    <tr>\n",
       "      <th>54268</th>\n",
       "      <td>54268</td>\n",
       "      <td>2017</td>\n",
       "      <td>29000</td>\n",
       "    </tr>\n",
       "    <tr>\n",
       "      <th>54269</th>\n",
       "      <td>54269</td>\n",
       "      <td>2015</td>\n",
       "      <td>94634</td>\n",
       "    </tr>\n",
       "    <tr>\n",
       "      <th>54270</th>\n",
       "      <td>54270</td>\n",
       "      <td>2013</td>\n",
       "      <td>40989</td>\n",
       "    </tr>\n",
       "    <tr>\n",
       "      <th>54271</th>\n",
       "      <td>54271</td>\n",
       "      <td>2023</td>\n",
       "      <td>1518</td>\n",
       "    </tr>\n",
       "    <tr>\n",
       "      <th>54272</th>\n",
       "      <td>54272</td>\n",
       "      <td>2021</td>\n",
       "      <td>35000</td>\n",
       "    </tr>\n",
       "  </tbody>\n",
       "</table>\n",
       "<p>54273 rows × 3 columns</p>\n",
       "</div>"
      ],
      "text/plain": [
       "          id  model_year  milage\n",
       "0          0        2018   74349\n",
       "1          1        2007   80000\n",
       "2          2        2009   91491\n",
       "3          3        2022    2437\n",
       "4          4        2001  111000\n",
       "...      ...         ...     ...\n",
       "54268  54268        2017   29000\n",
       "54269  54269        2015   94634\n",
       "54270  54270        2013   40989\n",
       "54271  54271        2023    1518\n",
       "54272  54272        2021   35000\n",
       "\n",
       "[54273 rows x 3 columns]"
      ]
     },
     "execution_count": 9,
     "metadata": {},
     "output_type": "execute_result"
    }
   ],
   "source": [
    "X"
   ]
  },
  {
   "cell_type": "code",
   "execution_count": 10,
   "id": "bd2f876a-7080-49e8-9523-54dad824a4d1",
   "metadata": {},
   "outputs": [
    {
     "data": {
      "text/plain": [
       "0         11000\n",
       "1          8250\n",
       "2         15000\n",
       "3         63500\n",
       "4          7850\n",
       "          ...  \n",
       "54268     29000\n",
       "54269      6500\n",
       "54270     18950\n",
       "54271    194965\n",
       "54272     37499\n",
       "Name: price, Length: 54273, dtype: uint32[pyarrow]"
      ]
     },
     "execution_count": 10,
     "metadata": {},
     "output_type": "execute_result"
    }
   ],
   "source": [
    "y"
   ]
  },
  {
   "cell_type": "code",
   "execution_count": 11,
   "id": "f8990354-5625-4eae-bd47-c620bd007183",
   "metadata": {},
   "outputs": [],
   "source": [
    "from sklearn import linear_model, model_selection, preprocessing\n",
    "X_train, X_test, y_train, y_test = model_selection.train_test_split(X, y, random_state=43)"
   ]
  },
  {
   "cell_type": "code",
   "execution_count": 12,
   "id": "5dc2096d-38d1-43af-8400-83d8425fcf54",
   "metadata": {},
   "outputs": [
    {
     "data": {
      "text/plain": [
       "0.10449021541446346"
      ]
     },
     "execution_count": 12,
     "metadata": {},
     "output_type": "execute_result"
    }
   ],
   "source": [
    "lr = linear_model.LinearRegression()\n",
    "lr.fit(X_train, y_train)\n",
    "lr.score(X_test, y_test)"
   ]
  },
  {
   "cell_type": "code",
   "execution_count": 13,
   "id": "9fe5c046-4374-4fbc-8075-d0bed6781cd4",
   "metadata": {},
   "outputs": [
    {
     "data": {
      "text/plain": [
       "array([-1.41209400e-02,  1.25134689e+03, -2.66419639e-01])"
      ]
     },
     "execution_count": 13,
     "metadata": {},
     "output_type": "execute_result"
    }
   ],
   "source": [
    "lr.coef_"
   ]
  },
  {
   "cell_type": "code",
   "execution_count": 14,
   "id": "cce7483b-5402-40f6-8627-0c0c7f7d9d7e",
   "metadata": {},
   "outputs": [
    {
     "data": {
      "text/plain": [
       "array(['id', 'model_year', 'milage'], dtype=object)"
      ]
     },
     "execution_count": 14,
     "metadata": {},
     "output_type": "execute_result"
    }
   ],
   "source": [
    "lr.feature_names_in_"
   ]
  },
  {
   "cell_type": "code",
   "execution_count": 15,
   "id": "5d549263-f17e-4c0b-86cb-8a62a0ab1c4b",
   "metadata": {},
   "outputs": [
    {
     "data": {
      "text/plain": [
       "id              -0.014121\n",
       "model_year    1251.346888\n",
       "milage          -0.266420\n",
       "dtype: float64"
      ]
     },
     "execution_count": 15,
     "metadata": {},
     "output_type": "execute_result"
    }
   ],
   "source": [
    "pd.Series(lr.coef_, index=lr.feature_names_in_)"
   ]
  },
  {
   "cell_type": "code",
   "execution_count": 16,
   "id": "c6ee327b-8150-440f-92bd-7dca0d8970ee",
   "metadata": {},
   "outputs": [
    {
     "data": {
      "text/plain": [
       "<Axes: >"
      ]
     },
     "execution_count": 16,
     "metadata": {},
     "output_type": "execute_result"
    },
    {
     "data": {
      "image/png": "[encoded data removed]",
      "text/plain": [
       "<Figure size 640x480 with 1 Axes>"
      ]
     },
     "metadata": {},
     "output_type": "display_data"
    }
   ],
   "source": [
    "(\n",
    "    pd.Series(lr.coef_, index=lr.feature_names_in_)\n",
    "    .sort_values()\n",
    "    .plot.barh()\n",
    ")"
   ]
  },
  {
   "cell_type": "code",
   "execution_count": 17,
   "id": "ec8e3ec1-140b-4f6d-9ed6-93b18a41646a",
   "metadata": {},
   "outputs": [
    {
     "data": {
      "text/plain": [
       "<Axes: >"
      ]
     },
     "execution_count": 17,
     "metadata": {},
     "output_type": "execute_result"
    },
    {
     "data": {
      "image/png": "[encoded data removed]",
      "text/plain": [
       "<Figure size 640x480 with 1 Axes>"
      ]
     },
     "metadata": {},
     "output_type": "display_data"
    }
   ],
   "source": [
    "(\n",
    "    pd.Series(lr.coef_, index=lr.feature_names_in_)\n",
    "    .pipe(lambda ser: ser[ser.abs() > 100])\n",
    "    .sort_values()\n",
    "    .plot.barh()\n",
    ")"
   ]
  },
  {
   "cell_type": "code",
   "execution_count": 18,
   "id": "a7ab5056-7e69-4a7b-a230-b2396780c53b",
   "metadata": {},
   "outputs": [],
   "source": [
    "std = preprocessing.StandardScaler()\n",
    "X_train = std.fit_transform(X_train)\n",
    "X_test = std.transform(X_test)"
   ]
  },
  {
   "cell_type": "code",
   "execution_count": 19,
   "id": "5f8d0555-0e41-4b2f-84a8-dd31c19f39f9",
   "metadata": {},
   "outputs": [
    {
     "data": {
      "text/plain": [
       "0.10449021541445969"
      ]
     },
     "execution_count": 19,
     "metadata": {},
     "output_type": "execute_result"
    }
   ],
   "source": [
    "lr = linear_model.LinearRegression()\n",
    "lr.fit(X_train, y_train)\n",
    "lr.score(X_test, y_test)"
   ]
  },
  {
   "cell_type": "code",
   "execution_count": 20,
   "id": "6dac4d14-20fd-4259-b2ee-63aafb438a5b",
   "metadata": {},
   "outputs": [
    {
     "data": {
      "text/plain": [
       "<Axes: >"
      ]
     },
     "execution_count": 20,
     "metadata": {},
     "output_type": "execute_result"
    },
    {
     "data": {
      "image/png": "[encoded data removed]",
      "text/plain": [
       "<Figure size 640x480 with 1 Axes>"
      ]
     },
     "metadata": {},
     "output_type": "display_data"
    }
   ],
   "source": [
    "(pd.Series(lr.coef_, index=X.columns)\n",
    " .sort_values()\n",
    " .plot.barh())"
   ]
  },
  {
   "cell_type": "code",
   "execution_count": 21,
   "id": "897383d2-b33c-4238-9f0e-1cfd0ed600d4",
   "metadata": {},
   "outputs": [
    {
     "data": {
      "text/plain": [
       "milage       -13492.259478\n",
       "id             -221.270475\n",
       "model_year     6983.351147\n",
       "dtype: float64"
      ]
     },
     "execution_count": 21,
     "metadata": {},
     "output_type": "execute_result"
    }
   ],
   "source": [
    "(pd.Series(lr.coef_, index=X.columns)\n",
    " .sort_values()\n",
    "# .plot.barh()\n",
    ")"
   ]
  },
  {
   "cell_type": "code",
   "execution_count": 23,
   "id": "14d39c65-314b-4bd9-b07c-fad45bbc04c2",
   "metadata": {},
   "outputs": [
    {
     "data": {
      "text/plain": [
       "<Axes: >"
      ]
     },
     "execution_count": 23,
     "metadata": {},
     "output_type": "execute_result"
    },
    {
     "data": {
      "image/png": "[encoded data removed]",
      "text/plain": [
       "<Figure size 640x480 with 1 Axes>"
      ]
     },
     "metadata": {},
     "output_type": "display_data"
    }
   ],
   "source": [
    "(pd.Series(lr.coef_, index=X.columns)\n",
    " .sort_values()\n",
    " .pipe(lambda ser: ser[ser.abs() > 5000])\n",
    " .plot.barh()\n",
    ")"
   ]
  },
  {
   "cell_type": "code",
   "execution_count": 24,
   "id": "4cadda19-c457-40f7-af87-2c98947396ec",
   "metadata": {},
   "outputs": [
    {
     "data": {
      "text/plain": [
       "Index(['milage', 'id', 'model_year'], dtype='object')"
      ]
     },
     "execution_count": 24,
     "metadata": {},
     "output_type": "execute_result"
    }
   ],
   "source": [
    "(pd.Series(lr.coef_, index=X.columns)\n",
    " .sort_values()\n",
    " # .pipe(lambda ser: ser[ser.abs() > 1e8])\n",
    " .index\n",
    ")"
   ]
  },
  {
   "cell_type": "raw",
   "id": "af0fd08b-d8e8-4007-ab6c-2a1e5cbee90f",
   "metadata": {},
   "source": [
    "simple_feats = set(['Kitchen AbvGr', 'Yr Sold', 'Bedroom AbvGr', 'Half Bath',\n",
    "       'Bsmt Half Bath', 'MS SubClass', 'Full Bath', 'Year Remod/Add',\n",
    "       'Mo Sold', 'Year Built', 'TotRms AbvGrd', 'Fireplaces', 'Overall Cond',\n",
    "       'Bsmt Full Bath', 'Garage Cars', 'Overall Qual'])\n",
    "std_feats = set(['Total Bsmt SF', '2nd Flr SF', '1st Flr SF', 'Low Qual Fin SF',\n",
    "       'BsmtFin SF 2', 'Gr Liv Area', 'Bsmt Unf SF', 'BsmtFin SF 1'])\n",
    "print(sorted(simple_feats | std_feats))"
   ]
  },
  {
   "cell_type": "code",
   "execution_count": 25,
   "id": "e2a88a39-5613-49c2-b48e-241567fe3d7e",
   "metadata": {},
   "outputs": [
    {
     "data": {
      "text/html": [
       "<style type=\"text/css\">\n",
       "#T_52510 thead tr th:nth-child(1) {\n",
       "  position: sticky;\n",
       "  background-color: inherit;\n",
       "  left: 0px;\n",
       "  z-index: 3 !important;\n",
       "}\n",
       "#T_52510 tbody tr th:nth-child(1) {\n",
       "  position: sticky;\n",
       "  background-color: inherit;\n",
       "  left: 0px;\n",
       "  z-index: 1;\n",
       "}\n",
       "#T_52510_row0_col0, #T_52510_row1_col2 {\n",
       "  background-color: #f7f6f6;\n",
       "  color: #000000;\n",
       "}\n",
       "#T_52510_row0_col1, #T_52510_row2_col2 {\n",
       "  background-color: #d05548;\n",
       "  color: #f1f1f1;\n",
       "}\n",
       "#T_52510_row0_col2, #T_52510_row1_col0, #T_52510_row2_col1 {\n",
       "  background-color: #053061;\n",
       "  color: #f1f1f1;\n",
       "}\n",
       "#T_52510_row0_col3 {\n",
       "  background-color: #fbceb7;\n",
       "  color: #000000;\n",
       "}\n",
       "#T_52510_row1_col1, #T_52510_row1_col3, #T_52510_row2_col0 {\n",
       "  background-color: #f6f7f7;\n",
       "  color: #000000;\n",
       "}\n",
       "#T_52510_row2_col3 {\n",
       "  background-color: #cce2ef;\n",
       "  color: #000000;\n",
       "}\n",
       "</style>\n",
       "<table id=\"T_52510\">\n",
       "  <thead>\n",
       "    <tr>\n",
       "      <th class=\"blank level0\" >&nbsp;</th>\n",
       "      <th id=\"T_52510_level0_col0\" class=\"col_heading level0 col0\" >id</th>\n",
       "      <th id=\"T_52510_level0_col1\" class=\"col_heading level0 col1\" >model_year</th>\n",
       "      <th id=\"T_52510_level0_col2\" class=\"col_heading level0 col2\" >milage</th>\n",
       "      <th id=\"T_52510_level0_col3\" class=\"col_heading level0 col3\" >price</th>\n",
       "    </tr>\n",
       "  </thead>\n",
       "  <tbody>\n",
       "    <tr>\n",
       "      <th id=\"T_52510_level0_row0\" class=\"row_heading level0 row0\" >milage</th>\n",
       "      <td id=\"T_52510_row0_col0\" class=\"data row0 col0\" >-0.003194</td>\n",
       "      <td id=\"T_52510_row0_col1\" class=\"data row0 col1\" >-0.625226</td>\n",
       "      <td id=\"T_52510_row0_col2\" class=\"data row0 col2\" >1.000000</td>\n",
       "      <td id=\"T_52510_row0_col3\" class=\"data row0 col3\" >-0.248927</td>\n",
       "    </tr>\n",
       "    <tr>\n",
       "      <th id=\"T_52510_level0_row1\" class=\"row_heading level0 row1\" >id</th>\n",
       "      <td id=\"T_52510_row1_col0\" class=\"data row1 col0\" >1.000000</td>\n",
       "      <td id=\"T_52510_row1_col1\" class=\"data row1 col1\" >0.000741</td>\n",
       "      <td id=\"T_52510_row1_col2\" class=\"data row1 col2\" >-0.003194</td>\n",
       "      <td id=\"T_52510_row1_col3\" class=\"data row1 col3\" >0.000587</td>\n",
       "    </tr>\n",
       "    <tr>\n",
       "      <th id=\"T_52510_level0_row2\" class=\"row_heading level0 row2\" >model_year</th>\n",
       "      <td id=\"T_52510_row2_col0\" class=\"data row2 col0\" >0.000741</td>\n",
       "      <td id=\"T_52510_row2_col1\" class=\"data row2 col1\" >1.000000</td>\n",
       "      <td id=\"T_52510_row2_col2\" class=\"data row2 col2\" >-0.625226</td>\n",
       "      <td id=\"T_52510_row2_col3\" class=\"data row2 col3\" >0.216150</td>\n",
       "    </tr>\n",
       "  </tbody>\n",
       "</table>\n"
      ],
      "text/plain": [
       "<pandas.io.formats.style.Styler at 0x1f7931c83d0>"
      ]
     },
     "execution_count": 25,
     "metadata": {},
     "output_type": "execute_result"
    }
   ],
   "source": [
    "# Look at correlations \n",
    "(X\n",
    " .assign(price=y)\n",
    " .corr()\n",
    " .loc[['milage', 'id', 'model_year']]\n",
    " .style\n",
    " .background_gradient(cmap='RdBu', vmin=-1, vmax=1)\n",
    " .set_sticky(axis='index') \n",
    ")"
   ]
  },
  {
   "cell_type": "code",
   "execution_count": 34,
   "id": "5746c78b-8434-4bb1-9353-ecc0645be25d",
   "metadata": {},
   "outputs": [],
   "source": [
    "X = cars[features].select_dtypes(\"number\")\n",
    "y = cars[target]\n",
    "\n",
    "X_train, X_test, y_train, y_test = model_selection.train_test_split(X, y, random_state=43)\n",
    "std = preprocessing.StandardScaler().set_output(transform=\"pandas\")\n",
    "X_train = std.fit_transform(X_train)\n",
    "X_test = std.transform(X_test)"
   ]
  },
  {
   "cell_type": "code",
   "execution_count": 27,
   "id": "fbd8aa69-3ac2-43d0-9256-dd460b89b1de",
   "metadata": {},
   "outputs": [],
   "source": [
    "import xgboost as xgb"
   ]
  },
  {
   "cell_type": "code",
   "execution_count": 31,
   "id": "6d0377d7-6873-4e72-80c2-9c1859ebabb5",
   "metadata": {},
   "outputs": [
    {
     "data": {
      "text/plain": [
       "0.07180439228591795"
      ]
     },
     "execution_count": 31,
     "metadata": {},
     "output_type": "execute_result"
    }
   ],
   "source": [
    "xg = xgb.XGBRegressor()\n",
    "xg.fit(X_train, y_train)\n",
    "xg.score(X_test, y_test)"
   ]
  },
  {
   "cell_type": "code",
   "execution_count": 32,
   "id": "f3510820-49b8-4053-971c-65c3e5b55aa5",
   "metadata": {},
   "outputs": [
    {
     "data": {
      "text/plain": [
       "<Axes: >"
      ]
     },
     "execution_count": 32,
     "metadata": {},
     "output_type": "execute_result"
    },
    {
     "data": {
      "image/png": "[encoded data removed]",
      "text/plain": [
       "<Figure size 300x1200 with 1 Axes>"
      ]
     },
     "metadata": {},
     "output_type": "display_data"
    }
   ],
   "source": [
    "pd.Series(xg.feature_importances_, index=X_train.columns).sort_values().plot.barh(figsize=(3,12))"
   ]
  },
  {
   "cell_type": "code",
   "execution_count": 35,
   "id": "7a9b1938-e40b-44c1-81c9-a176d92d9dc9",
   "metadata": {},
   "outputs": [
    {
     "data": {
      "text/plain": [
       "-0.014101503613416222"
      ]
     },
     "execution_count": 35,
     "metadata": {},
     "output_type": "execute_result"
    }
   ],
   "source": [
    "X_cat = (cars.assign(**cars.select_dtypes('number').astype('Int64')).drop(columns='price'))\n",
    "\n",
    "y_cat = cars.price\n",
    "X_cat_train, X_cat_test, y_cat_train, y_cat_test = model_selection.train_test_split(X_cat, y_cat, random_state=43)\n",
    "xg_cat = xgb.XGBRegressor(enable_categorical=True, tree_method='hist')\n",
    "xg_cat.fit(X_cat_train, y_cat_train)\n",
    "xg_cat.score(X_cat_test, y_cat_test)"
   ]
  },
  {
   "cell_type": "code",
   "execution_count": 36,
   "id": "5502d5a3-42aa-4d72-b933-61b52c218044",
   "metadata": {},
   "outputs": [
    {
     "data": {
      "text/plain": [
       "<Axes: >"
      ]
     },
     "execution_count": 36,
     "metadata": {},
     "output_type": "execute_result"
    },
    {
     "data": {
      "image/png": "[encoded data removed]",
      "text/plain": [
       "<Figure size 300x1200 with 1 Axes>"
      ]
     },
     "metadata": {},
     "output_type": "display_data"
    }
   ],
   "source": [
    "pd.Series(xg_cat.feature_importances_, index=xg_cat.feature_names_in_).sort_values().plot.barh(figsize=(3,12))"
   ]
  },
  {
   "cell_type": "code",
   "execution_count": null,
   "id": "8d45af6e-b3bd-4cac-8fc5-bb6f8cbe7b9c",
   "metadata": {},
   "outputs": [],
   "source": []
  }
 ],
 "metadata": {
  "kernelspec": {
   "display_name": "Python 3 (ipykernel)",
   "language": "python",
   "name": "python3"
  },
  "language_info": {
   "codemirror_mode": {
    "name": "ipython",
    "version": 3
   },
   "file_extension": ".py",
   "mimetype": "text/x-python",
   "name": "python",
   "nbconvert_exporter": "python",
   "pygments_lexer": "ipython3",
   "version": "3.10.12"
  }
 },
 "nbformat": 4,
 "nbformat_minor": 5
}
